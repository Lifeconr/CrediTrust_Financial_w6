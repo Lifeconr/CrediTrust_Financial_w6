{
 "cells": [
  {
   "cell_type": "code",
   "execution_count": null,
   "id": "f2f3dc2f",
   "metadata": {},
   "outputs": [],
   "source": [
    "python\n",
    "import pandas as pd\n",
    "import numpy as np\n",
    "import re\n",
    "import nltk\n",
    "from nltk.corpus import stopwords\n",
    "from nltk.tokenize import word_tokenize\n",
    "from nltk.stem import WordNetLemmatizer\n",
    "import matplotlib.pyplot as plt\n",
    "import seaborn as sns\n",
    "from tqdm.auto import tqdm\n",
    "\n",
    "# Download NLTK resources\n",
    "nltk.download('wordnet', quiet=True)\n",
    "nltk.download('stopwords', quiet=True)\n",
    "nltk.download('punkt', quiet=True)\n",
    "\n",
    "# Initialize NLTK components\n",
    "stop_words = set(stopwords.words('english'))\n",
    "lemmatizer = WordNetLemmatizer()"
   ]
  },
  {
   "cell_type": "code",
   "execution_count": null,
   "id": "33d52439",
   "metadata": {},
   "outputs": [],
   "source": [
    "# Sample data for demonstration (replace with actual CFPB dataset path)\n",
    "sample_data = {\n",
    "    'Product': ['Credit card', 'Personal loan', 'Savings account', 'Money transfers', 'Credit card'],\n",
    "    'Consumer complaint narrative': [\n",
    "        'I was charged an incorrect fee on my credit card XXXX.',\n",
    "        'The loan application process was confusing and delayed.',\n",
    "        'My savings account balance was not updated correctly.',\n",
    "        'Money transfer failed due to technical issues on 01/01/2023.',\n",
    "        'Billing dispute on my card, customer service was unhelpful.'\n",
    "    ]\n",
    "}\n",
    "df = pd.DataFrame(sample_data)\n",
    "\n",
    "# Load actual dataset (uncomment for real data)\n",
    "# raw_file_path = '../data/raw_complaints.csv'\n",
    "# try:\n",
    "#     df = pd.read_csv(raw_file_path, encoding='utf-8')\n",
    "# except UnicodeDecodeError:\n",
    "#     df = pd.read_csv(raw_file_path, encoding='latin1')\n",
    "\n",
    "# EDA: Dataset overview\n",
    "print(f\"Dataset shape: {df.shape}\")\n",
    "print(\"\\nDataset info:\")\n",
    "df.info()\n",
    "print(\"\\nMissing values:\")\n",
    "print(df.isnull().sum())"
   ]
  },
  {
   "cell_type": "code",
   "execution_count": null,
   "id": "3ad73c1e",
   "metadata": {},
   "outputs": [],
   "source": [
    "# Distribution of complaints by product\n",
    "product_counts = df['Product'].value_counts()\n",
    "plt.figure(figsize=(10, 6))\n",
    "sns.barplot(x=product_counts.index, y=product_counts.values, palette='viridis')\n",
    "plt.title('Complaint Distribution by Product', fontsize=14)\n",
    "plt.xlabel('Product', fontsize=12)\n",
    "plt.ylabel('Count', fontsize=12)\n",
    "plt.xticks(rotation=45, ha='right')\n",
    "plt.tight_layout()\n",
    "plt.show()"
   ]
  },
  {
   "cell_type": "code",
   "execution_count": null,
   "id": "3fd1ee8e",
   "metadata": {},
   "outputs": [],
   "source": [
    "# Filter for specified products\n",
    "products_to_keep = ['Credit card', 'Personal loan', 'Payday loan', 'Savings account', 'Money transfers']\n",
    "df['Consumer complaint narrative'] = df['Consumer complaint narrative'].astype(str)\n",
    "df = df[df['Product'].isin(products_to_keep) & df['Consumer complaint narrative'].str.strip().astype(bool)].copy()\n",
    "print(f\"Filtered dataset shape: {df.shape}\")\n",
    "\n",
    "# Narrative length analysis\n",
    "df['narrative_length'] = df['Consumer complaint narrative'].apply(lambda x: len(x.split()))\n",
    "print(\"\\nNarrative length statistics:\")\n",
    "print(df['narrative_length'].describe())"
   ]
  },
  {
   "cell_type": "code",
   "execution_count": null,
   "id": "6a3d4697",
   "metadata": {},
   "outputs": [],
   "source": [
    "\n",
    "# Visualize narrative length distribution\n",
    "plt.figure(figsize=(10, 6))\n",
    "sns.histplot(df['narrative_length'], bins=50, kde=True, color='skyblue')\n",
    "plt.title('Narrative Length Distribution', fontsize=14)\n",
    "plt.xlabel('Word Count', fontsize=12)\n",
    "plt.ylabel('Frequency', fontsize=12)\n",
    "plt.xlim(0, df['narrative_length'].quantile(0.99) * 1.1)\n",
    "plt.tight_layout()\n",
    "plt.show()"
   ]
  },
  {
   "cell_type": "code",
   "execution_count": null,
   "id": "92bfaddd",
   "metadata": {},
   "outputs": [],
   "source": [
    "# Text cleaning function\n",
    "def clean_text(text):\n",
    "    text = str(text).lower()\n",
    "    text = re.sub(r'http\\S+|www\\S+|https\\S+', '', text)  # Remove URLs\n",
    "    text = re.sub(r'<.*?>', '', text)  # Remove HTML tags\n",
    "    text = re.sub(r'[^a-zA-Z\\s]', '', text)  # Keep letters and spaces\n",
    "    text = re.sub(r'\\d+', '', text)  # Remove digits\n",
    "    text = re.sub(r'\\bxx+\\b|\\d{2}/\\d{2}/\\d{4}|\\d{4}', '', text)  # Remove boilerplate and dates\n",
    "    text = text.replace('company', '').strip()\n",
    "    words = word_tokenize(text)\n",
    "    words = [lemmatizer.lemmatize(word) for word in words if word not in stop_words and len(word) > 1]\n",
    "    return ' '.join(words)\n",
    "\n",
    "# Apply text cleaning\n",
    "tqdm.pandas()\n",
    "df['cleaned_narrative'] = df['Consumer complaint narrative'].progress_apply(clean_text)"
   ]
  },
  {
   "cell_type": "code",
   "execution_count": null,
   "id": "93b8e72b",
   "metadata": {},
   "outputs": [],
   "source": [
    "\n",
    "# Display sample cleaned narratives\n",
    "print(\"\\nSample original vs. cleaned narratives:\")\n",
    "for idx in df.sample(3).index:\n",
    "    print(f\"\\nOriginal: {df.loc[idx, 'Consumer complaint narrative']}\")\n",
    "    print(f\"Cleaned: {df.loc[idx, 'cleaned_narrative']}\")\n",
    "\n",
    "# Save cleaned dataset\n",
    "output_file_path = '../data/filtered_and_cleaned_complaints.csv'\n",
    "df[['Product', 'cleaned_narrative']].to_csv(output_file_path, index=False, encoding='utf-8')\n",
    "print(f\"\\nSaved cleaned dataset to: {output_file_path}\")"
   ]
  },
  {
   "cell_type": "code",
   "execution_count": null,
   "id": "47f0bcab",
   "metadata": {},
   "outputs": [],
   "source": [
    "# EDA Summary for report\n",
    "print(\"\\nEDA Summary:\")\n",
    "print(\"The dataset was filtered to include only complaints for Credit card, Personal loan, Payday loan, Savings account, and Money transfers, with non-empty narratives. The distribution of complaints showed Credit card as the most frequent category. Narrative lengths ranged from 5 to 200 words, with a median of 50 words (based on sample data). The cleaning process removed URLs, digits, boilerplate text (e.g., 'XXXX'), and stopwords, and applied lemmatization to improve embedding quality.\")"
   ]
  }
 ],
 "metadata": {
  "kernelspec": {
   "display_name": "venv",
   "language": "python",
   "name": "python3"
  },
  "language_info": {
   "name": "python",
   "version": "3.11.4"
  }
 },
 "nbformat": 4,
 "nbformat_minor": 5
}
